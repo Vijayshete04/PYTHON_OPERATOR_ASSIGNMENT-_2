{
 "cells": [
  {
   "cell_type": "markdown",
   "id": "99919ad7",
   "metadata": {},
   "source": [
    "# CALCULATE SUM,DIFFERENCE,PRODUCT AND QUOTIENT OF TWP NUMBER"
   ]
  },
  {
   "cell_type": "code",
   "execution_count": 21,
   "id": "1310cf30",
   "metadata": {},
   "outputs": [
    {
     "name": "stdout",
     "output_type": "stream",
     "text": [
      "enter the value of number1   : 5\n",
      "enter the valur of number2   : 5\n",
      "addition of two number is    : 10\n",
      "subtraction of two number is : 0\n",
      "product of two number is     : 25\n",
      "quotient of two number is    : 3125\n"
     ]
    }
   ],
   "source": [
    "a=int(input(\"enter the value of number1   : \"))\n",
    "b=int(input(\"enter the valur of number2   : \"))\n",
    "c=a+b    # sum of two number \n",
    "d= a-b   # subtraction of two number1\n",
    "e= a*b   # multiplication of two number\n",
    "f = a**b  # quotient of two number \n",
    "\n",
    "print(\"addition of two number is    :\",c)\n",
    "print(\"subtraction of two number is :\",d)\n",
    "print(\"product of two number is     :\",e)\n",
    "print(\"quotient of two number is    :\",f)"
   ]
  },
  {
   "cell_type": "code",
   "execution_count": 1,
   "id": "f4e121ac",
   "metadata": {},
   "outputs": [
    {
     "name": "stdout",
     "output_type": "stream",
     "text": [
      "enter the first number : 5\n",
      "7\n",
      "enter the second number: 5\n",
      "3\n",
      "enter the third number : 5\n",
      "10\n",
      "enter the forth number: 5\n",
      "2.5\n",
      "enter the fifth number 5\n",
      "1\n",
      "enter the six number 6\n",
      "7776\n",
      "enter the seven number6\n",
      "1\n"
     ]
    }
   ],
   "source": [
    "a=int(input(\"enter the first number : \"))\n",
    "a+=2                                       # add and assign\n",
    "print(a)\n",
    "b=int(input(\"enter the second number: \"))\n",
    "b-=2                                        # subtract and assign\n",
    "print(b)\n",
    "c=int(input(\"enter the third number : \"))\n",
    "c*=2                                         # multiply and assign\n",
    "print(c)\n",
    "d=int(input(\"enter the forth number: \"))\n",
    "d/=2                                         # Divide and assign\n",
    "print(d)\n",
    "e=int(input(\"enter the fifth number \"))\n",
    "e%=2                                          # modulud and assign\n",
    "print(e)\n",
    "f=int(input(\"enter the six number \"))\n",
    "f**=5                                        # exponent  and assign\n",
    "print(f)\n",
    "g=int(input(\"enter the seven number\"))\n",
    "g//=5                                         # floor division and assign \n",
    "print(g)"
   ]
  },
  {
   "cell_type": "markdown",
   "id": "9abfae5e",
   "metadata": {},
   "source": [
    "# COMPARE TWO NUMBER AND PRINT THE RESULT "
   ]
  },
  {
   "cell_type": "code",
   "execution_count": 2,
   "id": "6af71826",
   "metadata": {},
   "outputs": [
    {
     "name": "stdout",
     "output_type": "stream",
     "text": [
      "enter the first number : 5\n",
      "enter the second number :10\n",
      "first number is less than second number \n"
     ]
    }
   ],
   "source": [
    "a=int(input(\"enter the first number : \"))\n",
    "b= int (input(\"enter the second number :\"))\n",
    "if (a>b):\n",
    "    print(\"first number is the greator than second number\")\n",
    "elif(a<b):\n",
    "    print(\"first number is less than second number \")\n",
    "else :\n",
    "     print(\"both second number and first number is same  \")"
   ]
  },
  {
   "cell_type": "code",
   "execution_count": 3,
   "id": "fac7a6e4",
   "metadata": {},
   "outputs": [
    {
     "name": "stdout",
     "output_type": "stream",
     "text": [
      "Enter your age: 19\n",
      "You are eligible for work.\n"
     ]
    }
   ],
   "source": [
    "# Example using logical operators\n",
    "\n",
    "age = int(input(\"Enter your age: \"))\n",
    "\n",
    "if age >= 18 and age <= 60:\n",
    "    print(\"You are eligible for work.\")\n",
    "elif age < 18 or age > 60:\n",
    "    print(\"You are not in the typical working age range.\")\n",
    "else:\n",
    "    print(\"Invalid age.\")\n"
   ]
  },
  {
   "cell_type": "markdown",
   "id": "57525f73",
   "metadata": {},
   "source": [
    "# check the identity of variable "
   ]
  },
  {
   "cell_type": "code",
   "execution_count": 4,
   "id": "1a35e052",
   "metadata": {},
   "outputs": [
    {
     "name": "stdout",
     "output_type": "stream",
     "text": [
      "True\n"
     ]
    }
   ],
   "source": [
    "a=[1,2,3,\"vijay\",\"shete\"]\n",
    "b=a                          # is  operator \n",
    "print(b is a)"
   ]
  },
  {
   "cell_type": "code",
   "execution_count": 5,
   "id": "8da6f423",
   "metadata": {},
   "outputs": [
    {
     "name": "stdout",
     "output_type": "stream",
     "text": [
      "True\n"
     ]
    }
   ],
   "source": [
    "a=[1,2,3,4,54]                # is not operator\n",
    "b=[1,2]\n",
    "print(a is not b)"
   ]
  },
  {
   "cell_type": "markdown",
   "id": "6e207422",
   "metadata": {},
   "source": [
    "# perform Bitwise operation at any two integer"
   ]
  },
  {
   "cell_type": "code",
   "execution_count": 6,
   "id": "48caef03",
   "metadata": {},
   "outputs": [
    {
     "name": "stdout",
     "output_type": "stream",
     "text": [
      "enter the first number 5\n",
      "enter the second number 4\n",
      "4\n",
      "True\n",
      "<class 'int'>\n",
      "5\n",
      "True\n",
      "1\n",
      "True\n",
      "-6\n",
      "True\n",
      "-5\n"
     ]
    }
   ],
   "source": [
    "a= int(input(\"enter the first number \"))\n",
    "b= int(input(\"enter the second number \"))\n",
    "print(a & b)                                # bitwise and operator\n",
    "print(bool(a & b))\n",
    "print(type(a & b))\n",
    "print( a | b)                               # bitwise or operator\n",
    "print( bool(a |b))\n",
    "print(a ^ b)                                # bitwise xor opeerator\n",
    "print(bool(a ^ b))\n",
    "print(~a)                                   # bitwise not operator\n",
    "print(bool(~a))\n",
    "print(~b)"
   ]
  },
  {
   "cell_type": "markdown",
   "id": "67f01610",
   "metadata": {},
   "source": [
    "# use a unary operator to change the sign of variable "
   ]
  },
  {
   "cell_type": "code",
   "execution_count": 7,
   "id": "277e7dd0",
   "metadata": {},
   "outputs": [
    {
     "name": "stdout",
     "output_type": "stream",
     "text": [
      "enter the first number : 5\n",
      "5\n"
     ]
    }
   ],
   "source": [
    "a=int(input(\"enter the first number : \"))\n",
    "a=+a                                         # arithematic positive unary operator \n",
    "print(a)\n"
   ]
  },
  {
   "cell_type": "code",
   "execution_count": 8,
   "id": "63a04635",
   "metadata": {},
   "outputs": [
    {
     "name": "stdout",
     "output_type": "stream",
     "text": [
      "enter the number5\n",
      "-5\n"
     ]
    }
   ],
   "source": [
    "b= int(input(\"enter the number\"))\n",
    "b=-b                                         # arithematic negative operator \n",
    "print(b)"
   ]
  },
  {
   "cell_type": "code",
   "execution_count": 9,
   "id": "8a3e8248",
   "metadata": {},
   "outputs": [
    {
     "name": "stdout",
     "output_type": "stream",
     "text": [
      "enter the value of number6\n",
      "-7\n"
     ]
    }
   ],
   "source": [
    "c=int(input(\"enter the value of number\"))\n",
    "c=~c                                           # bitwise unary operator \n",
    "print(c)"
   ]
  },
  {
   "cell_type": "markdown",
   "id": "d68b8351",
   "metadata": {},
   "source": [
    "# use the ternary operatoar to assign values based on condition"
   ]
  },
  {
   "cell_type": "code",
   "execution_count": 20,
   "id": "57f7cded",
   "metadata": {},
   "outputs": [
    {
     "name": "stdout",
     "output_type": "stream",
     "text": [
      "enter the age 50\n",
      "you ar eligible \n"
     ]
    }
   ],
   "source": [
    "age=int(input(\"enter the age \"))\n",
    "message=\"you ar eligible \" if (age>=18) else \"you are not eligible \"\n",
    "print(message)"
   ]
  },
  {
   "cell_type": "code",
   "execution_count": null,
   "id": "59da7c56",
   "metadata": {},
   "outputs": [],
   "source": []
  },
  {
   "cell_type": "code",
   "execution_count": null,
   "id": "63d2dc2b",
   "metadata": {},
   "outputs": [],
   "source": []
  },
  {
   "cell_type": "code",
   "execution_count": null,
   "id": "add4b94f",
   "metadata": {},
   "outputs": [],
   "source": []
  },
  {
   "cell_type": "code",
   "execution_count": null,
   "id": "4fd716d2",
   "metadata": {},
   "outputs": [],
   "source": []
  }
 ],
 "metadata": {
  "kernelspec": {
   "display_name": "Python 3 (ipykernel)",
   "language": "python",
   "name": "python3"
  },
  "language_info": {
   "codemirror_mode": {
    "name": "ipython",
    "version": 3
   },
   "file_extension": ".py",
   "mimetype": "text/x-python",
   "name": "python",
   "nbconvert_exporter": "python",
   "pygments_lexer": "ipython3",
   "version": "3.11.5"
  }
 },
 "nbformat": 4,
 "nbformat_minor": 5
}
